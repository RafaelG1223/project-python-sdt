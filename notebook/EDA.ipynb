{
 "cells": [
  {
   "cell_type": "code",
   "execution_count": 4,
   "metadata": {},
   "outputs": [],
   "source": [
    "import pandas as pd\n",
    "import streamlit as st\n",
    "import plotly.express as px\n",
    "import numpy as np\n",
    "from matplotlib import pyplot as plt "
   ]
  },
  {
   "cell_type": "code",
   "execution_count": null,
   "metadata": {},
   "outputs": [],
   "source": [
    "# Read CSV file into the DataFrame\n",
    "df = pd.read_csv('vehicles_us.csv')\n",
    "\n",
    "# Edit ~ Histogram - Scatterplot - Checkbox - Header . . .\n",
    "\n",
    "# Let's start with making a Header\n",
    "st.header('Data View')\n",
    "\n",
    "st.dataframe(df)\n",
    "\n",
    "# Let's make a Scatterplot\n",
    "x_sp = 'date_posted'\n",
    "y_sp = 'price'\n",
    "\n",
    "st.plotly_chart(px.scatter(df, x = x_sp, y = y_sp))\n",
    "\n",
    "fig, ax = plt.subplots()\n",
    "ax.set_xlabel(x_sp)\n",
    "ax.set_label(y_sp)\n",
    "ax.set_title('Price of vehicles as time passes')\n",
    "st.pyplot(fig)\n",
    "# Subject to change"
   ]
  }
 ],
 "metadata": {
  "kernelspec": {
   "display_name": "base",
   "language": "python",
   "name": "python3"
  },
  "language_info": {
   "codemirror_mode": {
    "name": "ipython",
    "version": 3
   },
   "file_extension": ".py",
   "mimetype": "text/x-python",
   "name": "python",
   "nbconvert_exporter": "python",
   "pygments_lexer": "ipython3",
   "version": "3.10.9"
  },
  "orig_nbformat": 4
 },
 "nbformat": 4,
 "nbformat_minor": 2
}
